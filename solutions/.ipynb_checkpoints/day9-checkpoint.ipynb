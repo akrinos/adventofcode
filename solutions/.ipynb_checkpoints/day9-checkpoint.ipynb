{
 "cells": [
  {
   "cell_type": "code",
   "execution_count": 1,
   "metadata": {},
   "outputs": [],
   "source": [
    "import os\n",
    "import pandas as pd\n",
    "import numpy as np"
   ]
  },
  {
   "cell_type": "code",
   "execution_count": null,
   "metadata": {},
   "outputs": [],
   "source": [
    "# step 1: pad shift array with 9s all around to take care of the fact \n",
    "#         that you don't need to worry about being lower than anything outside map\n",
    "# step 2: wiggle the array +1x -1x +1y -1y and subtract the original array from\n",
    "#         each shifted array"
   ]
  },
  {
   "cell_type": "code",
   "execution_count": 54,
   "metadata": {},
   "outputs": [
    {
     "data": {
      "text/plain": [
       "15"
      ]
     },
     "execution_count": 54,
     "metadata": {},
     "output_type": "execute_result"
    }
   ],
   "source": [
    "def gen_matrix(string_in):\n",
    "    list_vects = string_in.split(\"\\n\")\n",
    "    np_vect = []\n",
    "    for vect in list_vects:\n",
    "        np_vect.append([int(curr) for curr in vect])\n",
    "        \n",
    "    return np.array(np_vect)\n",
    "\n",
    "def gen_padding_array(np_mat):\n",
    "    return np.pad(np_mat, mode = \"constant\", pad_width=(2,2), constant_values = 9)\n",
    "\n",
    "def roll_padding_array(pad_mat, direction = \"down\", axis = \"x\"):\n",
    "    shift_val = 1\n",
    "    if direction == \"down\":\n",
    "        shift_val = -1\n",
    "    if axis == \"x\":\n",
    "        return np.roll(pad_mat, shift_val, axis = 1)\n",
    "    return np.roll(pad_mat, shift_val, axis = 0)\n",
    "\n",
    "def subtract_padded(np_mat, pad_mat):\n",
    "    return np.subtract(gen_padding_array(np_mat), pad_mat)[2:-2,2:-2] >= 0\n",
    "\n",
    "def check_all_conditions(np_mat):\n",
    "    padded_array = gen_padding_array(np_mat)\n",
    "    left_shift = roll_padding_array(padded_array, direction = \"down\", axis = \"x\")\n",
    "    right_shift = roll_padding_array(padded_array, direction = \"up\", axis = \"x\")\n",
    "    down_shift = roll_padding_array(padded_array, direction = \"down\", axis = \"y\")\n",
    "    up_shift = roll_padding_array(padded_array, direction = \"up\", axis = \"y\")\n",
    "    \n",
    "    left_res = subtract_padded(np_mat,left_shift)\n",
    "    right_res = subtract_padded(np_mat,right_shift)\n",
    "    up_res = subtract_padded(np_mat,up_shift)\n",
    "    down_res = subtract_padded(np_mat,down_shift)\n",
    "        \n",
    "    return np.sum(np_mat[~(left_res | right_res | up_res | down_res)] + 1)\n",
    "\n",
    "def search_for_basins(np_mat):\n",
    "    np_mat = np.pad(np_mat, mode = \"constant\", pad_width=(1,1), constant_values = 9)\n",
    "    \n",
    "    basin_size = 0\n",
    "    basins_sizes = []\n",
    "    nine_locs = np.where(np_mat == 9) ## tuple of (row,column)\n",
    "    nine_locs_row = nine_locs[0]\n",
    "    nine_locs_col = nine_locs[1]\n",
    "    # for each row, store where the first 9 column is\n",
    "    known_9_locs_x = dict(zip([str(curr) for curr in list(range(np_mat.shape[0]))], [0] * np_mat.shape[0]))\n",
    "    # np_mat.shape[1] = x length; np_mat.shape[0] = y length\n",
    "    while np.sum(known_9_locs_x.values()) < ((np_mat.shape[1]-1) * np_mat.shape[1]):\n",
    "        for curr_y in np_mat.shape[0]:\n",
    "            first_9_loc = nine_locs_col[np.where(nine_locs_row == curr_y)][0]\n",
    "            curr_known = known_9_locs_x[str(curr_y)]\n",
    "            \n",
    "            basin_size = basin_size + (first_9_loc - curr_known - 1)\n",
    "            \n",
    "            # get rid of this 9 location.\n",
    "            nine_locs_col = np.delete(nine_locs_col, np.where(nine_locs_row == curr_y)[0][0])\n",
    "            nine_locs_row = np.delete(nine_locs_row, np.where(nine_locs_row == curr_y)[0][0])\n",
    "            \n",
    "            # assign that to the new first known.\n",
    "            \n",
    "            first_9_loc[str(curr_y)] = first_9_loc\n",
    "            \n",
    "        basin_sizes.append(basin_size)\n",
    "                \n",
    "small_scale = gen_matrix(\"\"\"2199943210\n",
    "3987894921\n",
    "9856789892\n",
    "8767896789\n",
    "9899965678\"\"\")\n",
    "check_all_conditions(small_scale)"
   ]
  },
  {
   "cell_type": "code",
   "execution_count": 55,
   "metadata": {},
   "outputs": [],
   "source": [
    "real_data = \"\"\"1012349767989212989898755567989899469867895798763210134789998765323234567898999876899994334996876898\n",
    "2343498754979939876789643459876678998656679987654341945679989994210123499987898965678989129885565797\n",
    "3456987643467898765698912399765569997543578999965459896789876789422236988976997654555678998764303556\n",
    "4568998892348999654987929976543457976432347899876598789999865689934545976865889543434589999654212347\n",
    "5679999989459998799876898765432546987643456964988798679878454567898659895434678932123459899769323467\n",
    "8798989878967899989765789876641234798658767893299976589965323458989798789323459321012398788998934699\n",
    "9987779767898969876543899989210145699767879954398765499854212345678989698912568943123999676797898789\n",
    "9876568956789656987674989998321237989878989769987644298764343456899776567893679543239897565456789895\n",
    "8987879545897649898775678987534459876999797998765432139865454567896562478989789767398796454345689934\n",
    "7998989656965434679876789698545698765435646799987521019876565678964321234578999878989655333238789123\n",
    "6899998787896567989987896569756899876321234798797543125987776789943210123467898989876543210129893234\n",
    "5789989898987678992399943457968998986430345697698654234599889899875421234678967893989754621345689499\n",
    "4569876979999899321987632349878987654321456789598766545999999967965432348989444954599965632346793987\n",
    "3359765567899986439876545467989598769432387893459897656789197659879765467999323495989876543457892976\n",
    "1298954456789976567997676578992349898953498954567939768991019543989897567898934989677987674569979765\n",
    "0987543345698987678998789699321234987899999765678923979432198632193987678997949878456798765678965563\n",
    "1295432223467898989329898965432349875687891978789914989594987641012398899756898767397999877899654321\n",
    "9976521012589999994310997897643498754576990989899895699989986532123459987645789656235798999949776210\n",
    "8765432193499998989429976798767697663445789993998789789769876543236567998436789543129987898932997321\n",
    "9876599989567987679598865889879988532234899892197698993456987754757679876545896543098655467899798542\n",
    "6997988678979876589987664578999876710123456789989587902567998765678896987666965432139832348978598767\n",
    "5398976597989996457896543567899985432548567999878376899978989898789955699877998743298753467965439989\n",
    "2109865456899954356789212488999996654567898989763234578999876959893234567998999654987654678977846795\n",
    "3298754347698743234995423567898999765878999879954345679987654545954345678949999765698765789498656934\n",
    "4987643234569532109896534589987899878989998767895656789899963439765479989321987999899886894398767895\n",
    "5999732125797643998789665690235678989597987656789897898787892129879567899430976878932987942109998989\n",
    "9899654236898659878679978921398789995346798745679998989686989247987678987699865767991098993297549567\n",
    "9798764357999799764559899634989899876459978434567999878595678956798789298989954356789129989398732349\n",
    "8679876567899987652545689545978954987898764323689598764443589767899990139878943125678939878998549998\n",
    "7567999878999875431234597699767893298999875444595497653212699878967689998767892014568997567897698767\n",
    "4349743999998989545345789987656892109989987655689298764443478989543569875456992123467893456998987656\n",
    "5498642478997987659557994976546799213567899766893129878764567895432498767366789234567892379899998545\n",
    "7987643467986598998678932986435678934999999877893234999895678976321239743235678945778921295789989766\n",
    "8999784589875439298789999984324567899878999998975549899976789765442398654134567896899990124678966987\n",
    "9989895799954320129892987674101698998767989999986798789987899877653459768012346789998789235679445698\n",
    "9976976899875434789910196543218789987545678989897987693498998998764578987434569897679678947893234989\n",
    "9895989945986545678932989954567899999327899876799876589569987899878989986589698954598569658932129875\n",
    "8789996434597657789549878899978959876438998965498765467989976789989998997679997893697678968954398654\n",
    "9678987525799869897659965678989543998549897654329984376799895678999877679799876789798789878965986543\n",
    "6578975436789978998998754567899432129756789543210986245789754568998768579898765688999899989876997541\n",
    "3458987547994399789897643459998943239867899655329875347898743456987654456987654357899998999989898532\n",
    "2367897698965987698765432568987894498978998785435985456789632348998712345699875176799987888998798643\n",
    "1278929789979987579987643456896789987899219987546797578996540456989101234578987245678976567689659794\n",
    "2389019899798998431099764568965679876567999987656898789897621239863212348799498656899765496567969875\n",
    "3499999945697899592129975878976798996456789999877949895698754349654323456894398767899974375459899986\n",
    "4699889322986799989298996989987987894345899931988932976789865598779949697965989898999876212358789997\n",
    "5989778901995899878967987891299876543234999890199531989896986679898898989899875979989983102345679899\n",
    "6974567899876789765254598990123989432149898789234949996945497789987676365798954569879954913656798798\n",
    "9865679954987899873143459789234598543298789678959898954321249899876564284567892379867899894967897626\n",
    "9978989943498987632012345679356987655987674567998797895430159988975432193456901298745448799899998435\n",
    "8799598891279996543245656799459998899898562356798676798654398767986753012367912987532335679790129546\n",
    "7653456789468998754356968988998999998754421334899545689986989754399854323568929899621026994689939657\n",
    "8732568996567999866767899976787899879983210123987634598999878975456975434679439765432187893567898968\n",
    "6641238987679899987998998765656789959876321249892123567898769876568998568789945976683298912348997899\n",
    "5420237899898798998929789854545678935995434399783013458987654987678987689897896989794569325689876789\n",
    "4321256789987677999434698783234579123987545987654124567899773598789799789956898999895978934698765867\n",
    "6453399899866566789645789542125989012998659898543235689978981459893569893245939310989899545987654656\n",
    "7664678998754315679956798683256892199899798798654348789567890345991096920139019329879789759876543545\n",
    "8765789329893204567897999794347953989798998669965459893468921256789975321998998998768678999965432134\n",
    "9876799934984512378998998987467899876677897549876567892379942967898976439876546987654456789876541014\n",
    "7997899899976678589429997896568998765456799832987679901239899899976597689989769876543245679987432123\n",
    "6798998778987789789998786889678999854345789654598789212398786788965498799999892986431045789998544255\n",
    "5679097655598890999854655678989986532269898766899894323987665677994329899878931997642123990987655345\n",
    "6989298743469991998743344567898794310178929877899985434596543456789212997767899876543237891998967458\n",
    "7899999432345789769532123578987654324239910998998976645987856578999101986457901987984556789879798767\n",
    "8939898931457898754321012489998988435545891299987989787998967689878919764346793499875698994565679878\n",
    "9549767892388959769643235678979876545656789987996599898909989799867899843234589599986789573234567989\n",
    "8699843459578949898764547989967987678769899876789467999329999898756898754565678987699895432123478996\n",
    "9987432578989324939865768999856798989878998765498988989998998996546789965678789195497976543457569985\n",
    "9876543467899439125989879298745899798989999986567899878767987989435667989789899096976898659568978964\n",
    "7997754689998998934599989349656987667997898997678999969659876879323456899891998989865789798979989323\n",
    "6459975899897867896999998498767996549875567998989298754345965469212356789910987678984599987899895212\n",
    "4347976998785756789888976569979875420984379899992197643239879878901235679329876587943498976898754353\n",
    "2136797987684345698767897678989985321975498798953985421023989989213446789999965456892347895789867965\n",
    "3245698979567268997656898989994495439876798667899876572124599995324657899879876767891456789891979896\n",
    "4399999865443155689747679999932398646989986456789987743245678975435778998765997989932367899930198789\n",
    "5987898654321044599435568999893497657999876587892398954346789986545989549874989398795456789421987678\n",
    "9876559865433123478924467898789598799978998788931459876457895498679897656989873245689579896592396577\n",
    "9765431976576434569012346987678999978567899899892369997569989319989789767899965356789789987989987456\n",
    "9876210987687949993123459876587899865456999998789478987678978901998578979979876467899896899878996567\n",
    "9994321298789898789234599965486799654349789997699989998789767899877469989567987568945954989868987978\n",
    "9989432349898767678945989874395678943254678976579999999894345678965347893459998979435943979654398999\n",
    "8878953756999654589659878984234567892133578932467899899965456989878456892398789989569899767993209879\n",
    "7767899897998765678998966796545678921012489991238998799878568998989767921499678997698798955879919867\n",
    "6456789919879878789997654297657899543123456789449989679989879767899879932987568998987667543467897658\n",
    "5347892109865989897998764349868999854234969997678976568998995545689989893986456789996558312345976646\n",
    "5456789298754393976899987656979998765349898998899985469987654436578996799987878999985432101269875535\n",
    "7967896987543212345789298767989999875498767999998999329898963123459865678998989999876543212998764323\n",
    "9899964298955901234890199898996789976799856898987888998769894064998754567899999987987654339876543214\n",
    "8789654399899892945992989999875678987989543987656567997656789129789653498998919876398767478987854435\n",
    "7678969978786789896789878987954589499878956798745456889548899998678964567897929995459878567999876567\n",
    "4599998765634896789898769876543489398767897987432345678937898763567899679956798889567999879876987678\n",
    "3699976543012345678996545997694678987656999876543456789656789854579998989767987678998988998765498789\n",
    "2789998432127469789989932198775799996546799987698678999897898765998997899879876569999976989874309899\n",
    "3679876543235678999879894299889899987656789698909789768998929879876545978998965456989865768965212978\n",
    "4567998754546799198768789989992998798987996569919897657999012989987834569887996349876743457894324567\n",
    "5788979865657893239855678979921987659598985456899976545878934998798965799796789298765632386789535678\n",
    "6789767979898994998434589467890997543479965345689397834457899877679986987645693129874341245678946799\n",
    "8898756989949789876545789345699875412667891234594298321347999967567899768434679096543210146799758892\n",
    "9999547990134689989686892157987654323458964345679109432656789753478987654323489987676543235789899901\"\"\""
   ]
  },
  {
   "cell_type": "code",
   "execution_count": 53,
   "metadata": {},
   "outputs": [
    {
     "data": {
      "text/plain": [
       "594"
      ]
     },
     "execution_count": 53,
     "metadata": {},
     "output_type": "execute_result"
    }
   ],
   "source": [
    "large_scale = gen_matrix(real_data)\n",
    "check_all_conditions(large_scale)"
   ]
  },
  {
   "cell_type": "code",
   "execution_count": null,
   "metadata": {},
   "outputs": [],
   "source": []
  },
  {
   "cell_type": "code",
   "execution_count": null,
   "metadata": {},
   "outputs": [],
   "source": []
  },
  {
   "cell_type": "markdown",
   "metadata": {},
   "source": [
    "## Workspace"
   ]
  },
  {
   "cell_type": "code",
   "execution_count": 6,
   "metadata": {},
   "outputs": [
    {
     "data": {
      "text/plain": [
       "array([[9, 9, 9, 9, 9, 9, 9, 9, 9, 9, 9, 9, 9, 9],\n",
       "       [9, 9, 9, 9, 9, 9, 9, 9, 9, 9, 9, 9, 9, 9],\n",
       "       [9, 9, 2, 1, 9, 9, 9, 4, 3, 2, 1, 0, 9, 9],\n",
       "       [9, 9, 3, 9, 8, 7, 8, 9, 4, 9, 2, 1, 9, 9],\n",
       "       [9, 9, 9, 8, 5, 6, 7, 8, 9, 8, 9, 2, 9, 9],\n",
       "       [9, 9, 8, 7, 6, 7, 8, 9, 6, 7, 8, 9, 9, 9],\n",
       "       [9, 9, 9, 8, 9, 9, 9, 6, 5, 6, 7, 8, 9, 9],\n",
       "       [9, 9, 9, 9, 9, 9, 9, 9, 9, 9, 9, 9, 9, 9],\n",
       "       [9, 9, 9, 9, 9, 9, 9, 9, 9, 9, 9, 9, 9, 9]])"
      ]
     },
     "execution_count": 6,
     "metadata": {},
     "output_type": "execute_result"
    }
   ],
   "source": [
    "gen_padding_array(small_scale)"
   ]
  },
  {
   "cell_type": "code",
   "execution_count": 15,
   "metadata": {},
   "outputs": [
    {
     "data": {
      "text/plain": [
       "array([[2, 1, 9, 9, 9, 4, 3, 2, 1, 0],\n",
       "       [3, 9, 8, 7, 8, 9, 4, 9, 2, 1],\n",
       "       [9, 8, 5, 6, 7, 8, 9, 8, 9, 2],\n",
       "       [8, 7, 6, 7, 8, 9, 6, 7, 8, 9],\n",
       "       [9, 8, 9, 9, 9, 6, 5, 6, 7, 8]])"
      ]
     },
     "execution_count": 15,
     "metadata": {},
     "output_type": "execute_result"
    }
   ],
   "source": [
    "small_scale"
   ]
  },
  {
   "cell_type": "code",
   "execution_count": 17,
   "metadata": {},
   "outputs": [
    {
     "data": {
      "text/plain": [
       "array([[ 1, -8,  0,  0,  5,  1,  1,  1,  1, -9],\n",
       "       [-6,  1,  1, -1, -1,  5, -5,  7,  1, -8],\n",
       "       [ 1,  3, -1, -1, -1, -1,  1, -1,  7, -7],\n",
       "       [ 1,  1, -1, -1, -1,  3, -1, -1, -1,  0],\n",
       "       [ 1, -1,  0,  0,  3,  1, -1, -1, -1, -1]])"
      ]
     },
     "execution_count": 17,
     "metadata": {},
     "output_type": "execute_result"
    }
   ],
   "source": [
    "#np.roll(gen_padding_array(small_scale), 1, axis = 0)\n",
    "subtract_padded(small_scale, roll_padding_array(gen_padding_array(small_scale), direction = \"down\", axis = \"x\"))"
   ]
  },
  {
   "cell_type": "code",
   "execution_count": 19,
   "metadata": {},
   "outputs": [
    {
     "data": {
      "text/plain": [
       "array([[False,  True, False, False, False, False, False, False, False,\n",
       "         True],\n",
       "       [ True, False, False,  True,  True, False,  True, False, False,\n",
       "         True],\n",
       "       [False, False,  True,  True,  True,  True, False,  True, False,\n",
       "         True],\n",
       "       [False, False,  True,  True,  True, False,  True,  True,  True,\n",
       "        False],\n",
       "       [False,  True, False, False, False, False,  True,  True,  True,\n",
       "         True]])"
      ]
     },
     "execution_count": 19,
     "metadata": {},
     "output_type": "execute_result"
    }
   ],
   "source": [
    "subtract_padded(small_scale, roll_padding_array(gen_padding_array(small_scale), direction = \"down\", axis = \"x\")) < 0"
   ]
  },
  {
   "cell_type": "code",
   "execution_count": 25,
   "metadata": {},
   "outputs": [
    {
     "data": {
      "text/plain": [
       "array([[2, 1, 9, 9, 9, 4, 3, 2, 1, 0],\n",
       "       [3, 9, 8, 7, 8, 9, 4, 9, 2, 1],\n",
       "       [9, 8, 5, 6, 7, 8, 9, 8, 9, 2],\n",
       "       [8, 7, 6, 7, 8, 9, 6, 7, 8, 9],\n",
       "       [9, 8, 9, 9, 9, 6, 5, 6, 7, 8]])"
      ]
     },
     "execution_count": 25,
     "metadata": {},
     "output_type": "execute_result"
    }
   ],
   "source": [
    "np.where(subtract_padded(small_scale, roll_padding_array(gen_padding_array(small_scale), direction = \"down\", axis = \"x\")) >= 0, small_scale, 0\n",
    "    )"
   ]
  },
  {
   "cell_type": "code",
   "execution_count": 26,
   "metadata": {},
   "outputs": [
    {
     "data": {
      "text/plain": [
       "array([[ True,  True,  True,  True,  True,  True,  True,  True,  True,\n",
       "         True],\n",
       "       [ True,  True,  True,  True,  True,  True,  True,  True,  True,\n",
       "         True],\n",
       "       [ True,  True,  True,  True,  True,  True,  True,  True,  True,\n",
       "         True],\n",
       "       [ True,  True,  True,  True,  True,  True,  True,  True,  True,\n",
       "         True],\n",
       "       [ True,  True,  True,  True,  True,  True,  True,  True,  True,\n",
       "         True]])"
      ]
     },
     "execution_count": 26,
     "metadata": {},
     "output_type": "execute_result"
    }
   ],
   "source": [
    "subtract_padded(small_scale, roll_padding_array(gen_padding_array(small_scale), direction = \"down\", axis = \"x\")) >= 0"
   ]
  },
  {
   "cell_type": "code",
   "execution_count": 28,
   "metadata": {},
   "outputs": [
    {
     "data": {
      "text/plain": [
       "array([[0, 1, 0, 0, 0, 0, 0, 0, 0, 0],\n",
       "       [3, 0, 0, 7, 8, 0, 4, 0, 0, 1],\n",
       "       [0, 0, 5, 6, 7, 8, 0, 8, 0, 2],\n",
       "       [0, 0, 6, 7, 8, 0, 6, 7, 8, 0],\n",
       "       [0, 8, 0, 0, 0, 0, 5, 6, 7, 8]])"
      ]
     },
     "execution_count": 28,
     "metadata": {},
     "output_type": "execute_result"
    }
   ],
   "source": [
    "np.where(subtract_padded(small_scale, roll_padding_array(gen_padding_array(small_scale), direction = \"down\", axis = \"x\")), small_scale, 0)"
   ]
  },
  {
   "cell_type": "code",
   "execution_count": 44,
   "metadata": {},
   "outputs": [
    {
     "data": {
      "text/plain": [
       "array([[2, 0, 9, 9, 9, 4, 3, 2, 1, 0],\n",
       "       [3, 9, 8, 7, 8, 9, 4, 9, 2, 1],\n",
       "       [9, 8, 0, 6, 7, 8, 9, 8, 9, 2],\n",
       "       [8, 7, 6, 7, 8, 9, 6, 7, 8, 9],\n",
       "       [9, 8, 9, 9, 9, 6, 0, 6, 7, 8]])"
      ]
     },
     "execution_count": 44,
     "metadata": {},
     "output_type": "execute_result"
    }
   ],
   "source": [
    "np_mat = small_scale\n",
    "padded_array = gen_padding_array(np_mat)\n",
    "left_shift = roll_padding_array(padded_array, direction = \"down\", axis = \"x\")\n",
    "right_shift = roll_padding_array(padded_array, direction = \"up\", axis = \"x\")\n",
    "down_shift = roll_padding_array(padded_array, direction = \"down\", axis = \"y\")\n",
    "up_shift = roll_padding_array(padded_array, direction = \"up\", axis = \"y\")\n",
    "\n",
    "left_res = subtract_padded(np_mat,left_shift)\n",
    "right_res = subtract_padded(np_mat,right_shift)\n",
    "up_res = subtract_padded(np_mat,up_shift)\n",
    "down_res = subtract_padded(np_mat,down_shift)\n",
    "\n",
    "np.where((left_res | right_res | up_res | down_res), np_mat, 0)"
   ]
  },
  {
   "cell_type": "code",
   "execution_count": 49,
   "metadata": {},
   "outputs": [
    {
     "data": {
      "text/plain": [
       "15"
      ]
     },
     "execution_count": 49,
     "metadata": {},
     "output_type": "execute_result"
    }
   ],
   "source": [
    "np.sum(np_mat[~(left_res | right_res | up_res | down_res)] + 1)"
   ]
  },
  {
   "cell_type": "code",
   "execution_count": 42,
   "metadata": {},
   "outputs": [
    {
     "data": {
      "text/plain": [
       "array([[ True,  True, False, False, False,  True,  True,  True,  True,\n",
       "         True],\n",
       "       [ True, False,  True,  True,  True, False,  True, False,  True,\n",
       "         True],\n",
       "       [False,  True,  True,  True,  True,  True, False,  True, False,\n",
       "         True],\n",
       "       [ True,  True,  True,  True,  True, False,  True,  True,  True,\n",
       "        False],\n",
       "       [False,  True, False, False, False,  True,  True,  True,  True,\n",
       "         True]])"
      ]
     },
     "execution_count": 42,
     "metadata": {},
     "output_type": "execute_result"
    }
   ],
   "source": [
    "(left_res | right_res | up_res | down_res)"
   ]
  },
  {
   "cell_type": "code",
   "execution_count": 56,
   "metadata": {},
   "outputs": [
    {
     "data": {
      "text/plain": [
       "(5, 10)"
      ]
     },
     "execution_count": 56,
     "metadata": {},
     "output_type": "execute_result"
    }
   ],
   "source": [
    "np_mat.shape"
   ]
  },
  {
   "cell_type": "code",
   "execution_count": 64,
   "metadata": {},
   "outputs": [
    {
     "data": {
      "text/plain": [
       "(array([0, 1, 2]),)"
      ]
     },
     "execution_count": 64,
     "metadata": {},
     "output_type": "execute_result"
    }
   ],
   "source": [
    "np.where(np.where(np_mat == 9)[0] == 0)"
   ]
  },
  {
   "cell_type": "code",
   "execution_count": 59,
   "metadata": {},
   "outputs": [
    {
     "data": {
      "text/plain": [
       "array([[2, 1, 9, 9, 9, 4, 3, 2, 1, 0],\n",
       "       [3, 9, 8, 7, 8, 9, 4, 9, 2, 1],\n",
       "       [9, 8, 5, 6, 7, 8, 9, 8, 9, 2],\n",
       "       [8, 7, 6, 7, 8, 9, 6, 7, 8, 9],\n",
       "       [9, 8, 9, 9, 9, 6, 5, 6, 7, 8]])"
      ]
     },
     "execution_count": 59,
     "metadata": {},
     "output_type": "execute_result"
    }
   ],
   "source": [
    "np_mat"
   ]
  },
  {
   "cell_type": "code",
   "execution_count": 65,
   "metadata": {},
   "outputs": [
    {
     "data": {
      "text/plain": [
       "(array([0, 0, 0, 1, 1, 1, 2, 2, 2, 3, 3, 4, 4, 4, 4]),\n",
       " array([2, 3, 4, 1, 5, 7, 0, 6, 8, 5, 9, 0, 2, 3, 4]))"
      ]
     },
     "execution_count": 65,
     "metadata": {},
     "output_type": "execute_result"
    }
   ],
   "source": [
    "np.where(np_mat == 9)"
   ]
  },
  {
   "cell_type": "code",
   "execution_count": 62,
   "metadata": {},
   "outputs": [],
   "source": [
    "nine_locs = np.where(np_mat == 9) ## tuple of (row,column)\n",
    "    # np_mat.shape[1] = x length; np_mat.shape[0] = y length\n",
    "first_9_loc = nine_locs[1][np.where(nine_locs[0] == 0)]"
   ]
  },
  {
   "cell_type": "code",
   "execution_count": 68,
   "metadata": {},
   "outputs": [],
   "source": [
    "prep_list = list(first_9_loc)\n",
    "prep_list.remove(2)"
   ]
  },
  {
   "cell_type": "code",
   "execution_count": 69,
   "metadata": {},
   "outputs": [
    {
     "data": {
      "text/plain": [
       "[3, 4]"
      ]
     },
     "execution_count": 69,
     "metadata": {},
     "output_type": "execute_result"
    }
   ],
   "source": [
    "prep_list"
   ]
  },
  {
   "cell_type": "code",
   "execution_count": 72,
   "metadata": {},
   "outputs": [
    {
     "data": {
      "text/plain": [
       "array([3, 4])"
      ]
     },
     "execution_count": 72,
     "metadata": {},
     "output_type": "execute_result"
    }
   ],
   "source": [
    "np.delete(first_9_loc, 0)"
   ]
  },
  {
   "cell_type": "code",
   "execution_count": 78,
   "metadata": {},
   "outputs": [
    {
     "data": {
      "text/plain": [
       "0"
      ]
     },
     "execution_count": 78,
     "metadata": {},
     "output_type": "execute_result"
    }
   ],
   "source": [
    "np.where(nine_locs[0] == 0)[0][0]"
   ]
  },
  {
   "cell_type": "code",
   "execution_count": 81,
   "metadata": {},
   "outputs": [
    {
     "data": {
      "text/plain": [
       "array([2, 3, 4])"
      ]
     },
     "execution_count": 81,
     "metadata": {},
     "output_type": "execute_result"
    }
   ],
   "source": [
    "nine_locs[1][np.where(nine_locs[0] == 0)]"
   ]
  },
  {
   "cell_type": "code",
   "execution_count": 83,
   "metadata": {},
   "outputs": [
    {
     "data": {
      "text/plain": [
       "array([2, 3, 4, 5, 7, 0, 6, 8, 5, 9, 0, 2, 3, 4])"
      ]
     },
     "execution_count": 83,
     "metadata": {},
     "output_type": "execute_result"
    }
   ],
   "source": [
    "np.delete(nine_locs[1], np.where(nine_locs[0] == 1)[0][0])"
   ]
  },
  {
   "cell_type": "code",
   "execution_count": 153,
   "metadata": {},
   "outputs": [
    {
     "data": {
      "text/plain": [
       "array([[2, 1, 9, 9, 9, 4, 3, 2, 1, 0],\n",
       "       [3, 9, 8, 7, 8, 9, 4, 9, 2, 1],\n",
       "       [9, 8, 5, 6, 7, 8, 9, 8, 9, 2],\n",
       "       [8, 7, 6, 7, 8, 9, 6, 7, 8, 9],\n",
       "       [9, 8, 9, 9, 9, 6, 5, 6, 7, 8]])"
      ]
     },
     "execution_count": 153,
     "metadata": {},
     "output_type": "execute_result"
    }
   ],
   "source": [
    "np_mat = small_scale\n",
    "np_mat"
   ]
  },
  {
   "cell_type": "code",
   "execution_count": 154,
   "metadata": {},
   "outputs": [
    {
     "data": {
      "text/plain": [
       "(array([ 0,  0,  0,  0,  0,  0,  0,  0,  0,  0,  0,  0,  0,  0,  0,  0,  1,\n",
       "         1,  1,  1,  1,  1,  1,  1,  1,  1,  1,  1,  1,  1,  1,  1,  2,  2,\n",
       "         2,  2,  2,  2,  2,  2,  2,  2,  2,  2,  2,  2,  2,  2,  3,  3,  3,\n",
       "         3,  3,  3,  3,  3,  3,  4,  4,  4,  4,  4,  4,  4,  4,  4,  5,  5,\n",
       "         5,  5,  5,  5,  5,  5,  5,  6,  6,  6,  6,  6,  6,  6,  6,  7,  7,\n",
       "         7,  7,  7,  7,  7,  7,  7,  7,  8,  8,  8,  8,  8,  8,  8,  8,  8,\n",
       "         8,  8,  8,  8,  8,  8,  8,  9,  9,  9,  9,  9,  9,  9,  9,  9,  9,\n",
       "         9,  9,  9,  9,  9,  9, 10, 10, 10, 10, 10, 10, 10, 10, 10, 10, 10,\n",
       "        10, 10, 10, 10, 10]),\n",
       " array([ 0,  1,  2,  3,  4,  5,  6,  7,  8,  9, 10, 11, 12, 13, 14, 15,  0,\n",
       "         1,  2,  3,  4,  5,  6,  7,  8,  9, 10, 11, 12, 13, 14, 15,  0,  1,\n",
       "         2,  3,  4,  5,  6,  7,  8,  9, 10, 11, 12, 13, 14, 15,  0,  1,  2,\n",
       "         5,  6,  7, 13, 14, 15,  0,  1,  2,  4,  8, 10, 13, 14, 15,  0,  1,\n",
       "         2,  3,  9, 11, 13, 14, 15,  0,  1,  2,  8, 12, 13, 14, 15,  0,  1,\n",
       "         2,  3,  5,  6,  7, 13, 14, 15,  0,  1,  2,  3,  4,  5,  6,  7,  8,\n",
       "         9, 10, 11, 12, 13, 14, 15,  0,  1,  2,  3,  4,  5,  6,  7,  8,  9,\n",
       "        10, 11, 12, 13, 14, 15,  0,  1,  2,  3,  4,  5,  6,  7,  8,  9, 10,\n",
       "        11, 12, 13, 14, 15]))"
      ]
     },
     "execution_count": 154,
     "metadata": {},
     "output_type": "execute_result"
    }
   ],
   "source": [
    "nine_locs"
   ]
  },
  {
   "cell_type": "code",
   "execution_count": 155,
   "metadata": {},
   "outputs": [
    {
     "data": {
      "text/plain": [
       "10"
      ]
     },
     "execution_count": 155,
     "metadata": {},
     "output_type": "execute_result"
    }
   ],
   "source": [
    "np_mat.shape[1]"
   ]
  },
  {
   "cell_type": "code",
   "execution_count": 179,
   "metadata": {},
   "outputs": [
    {
     "name": "stdout",
     "output_type": "stream",
     "text": [
      "[0, 0, 0, 0, 0, 0, 0]\n",
      "basin done\n",
      "[0, 0, 0, 0, 0, 0, 0]\n",
      "Vertical position is 1\n",
      "0\n",
      "3\n",
      "bravo\n",
      "basin size is 2\n",
      "Vertical position is 2\n",
      "0\n",
      "2\n",
      "bravo\n",
      "basin size is 3\n",
      "basin done\n",
      "[1, 3, 2, 1, 0, 0, 0]\n",
      "Vertical position is 2\n",
      "2\n",
      "6\n",
      "bravo\n",
      "basin size is 3\n",
      "Vertical position is 3\n",
      "1\n",
      "7\n",
      "bravo\n",
      "basin size is 8\n",
      "Vertical position is 4\n",
      "0\n",
      "6\n",
      "bravo\n",
      "basin size is 13\n",
      "basin done\n",
      "[2, 4, 6, 7, 6, 1, 0]\n",
      "Vertical position is 2\n",
      "6\n",
      "8\n",
      "bravo\n",
      "basin size is 1\n",
      "Vertical position is 3\n",
      "7\n",
      "9\n",
      "bravo\n",
      "basin size is 2\n",
      "Vertical position is 4\n",
      "6\n",
      "10\n",
      "bravo\n",
      "basin size is 5\n",
      "Vertical position is 5\n",
      "1\n",
      "3\n",
      "bravo\n",
      "basin size is 6\n",
      "basin done\n",
      "[3, 5, 8, 9, 10, 3, 1]\n",
      "Vertical position is 1\n",
      "5\n",
      "11\n",
      "bravo\n",
      "basin size is 5\n",
      "Vertical position is 2\n",
      "8\n",
      "11\n",
      "bravo\n",
      "basin size is 7\n",
      "Vertical position is 3\n",
      "9\n",
      "11\n",
      "bravo\n",
      "basin size is 8\n",
      "basin done\n",
      "[4, 11, 11, 11, 11, 3, 1]\n",
      "basin done\n",
      "[5, 11, 11, 11, 11, 4, 2]\n",
      "basin done\n",
      "[6, 11, 11, 11, 11, 5, 3]\n",
      "Vertical position is 5\n",
      "5\n",
      "11\n",
      "bravo\n",
      "basin size is 5\n",
      "basin done\n",
      "[7, 11, 11, 11, 11, 11, 4]\n",
      "basin done\n",
      "[8, 11, 11, 11, 11, 11, 5]\n",
      "basin done\n",
      "[9, 11, 11, 11, 11, 11, 6]\n",
      "basin done\n",
      "[10, 11, 11, 11, 11, 11, 7]\n",
      "basin done\n",
      "[11, 11, 11, 11, 11, 11, 8]\n",
      "basin done\n",
      "[11, 11, 11, 11, 11, 11, 9]\n",
      "basin done\n",
      "[11, 11, 11, 11, 11, 11, 10]\n",
      "basin done\n"
     ]
    }
   ],
   "source": [
    "np_mat = small_scale\n",
    "\n",
    "np_mat = np.pad(np_mat, mode = \"constant\", pad_width=(1,1), constant_values = 9)\n",
    "    \n",
    "basin_size = 0\n",
    "basin_sizes = []\n",
    "nine_locs = np.where(np_mat == 9) ## tuple of (row,column)\n",
    "nine_locs_row = nine_locs[0]\n",
    "nine_locs_col = nine_locs[1]\n",
    "# for each row, store where the first 9 column is\n",
    "known_9_locs_x = dict(zip([str(curr) for curr in list(range(np_mat.shape[0]))], [0] * np_mat.shape[0]))\n",
    "# np_mat.shape[1] = x length; np_mat.shape[0] = y length\n",
    "while (np.array(list(known_9_locs_x.values())) < (np_mat.shape[1]-1)).any():\n",
    "    print(list(known_9_locs_x.values()))\n",
    "    for curr_y in list(range(np_mat.shape[0])):\n",
    "        break_token = False\n",
    "        if (len(np.where(nine_locs_row == curr_y)[0]) > 0):\n",
    "            first_9_loc = nine_locs_col[np.where(nine_locs_row == curr_y)][0]\n",
    "            curr_known = known_9_locs_x[str(curr_y)]\n",
    "            if (first_9_loc - curr_known - 1) > 0:\n",
    "                \n",
    "                print(\"Vertical position is\", curr_y)\n",
    "                print(curr_known)\n",
    "                print(first_9_loc)\n",
    "                print(\"bravo\")\n",
    "                basin_size = basin_size + (first_9_loc - curr_known - 1)\n",
    "                print(\"basin size is\", basin_size)\n",
    "                if first_9_loc == 0:\n",
    "                    print(\"yo\", first_9_loc)\n",
    "                    break\n",
    "\n",
    "            # get rid of this 9 location.\n",
    "            nine_locs_col = np.delete(nine_locs_col, np.where(nine_locs_row == curr_y)[0][0])\n",
    "            nine_locs_row = np.delete(nine_locs_row, np.where(nine_locs_row == curr_y)[0][0])\n",
    "\n",
    "            # assign that to the new first known.\n",
    "\n",
    "            known_9_locs_x[str(curr_y)] = first_9_loc\n",
    "            if (basin_size > 0) & ((first_9_loc - curr_known - 1) == 0):\n",
    "                break\n",
    "            \n",
    "    print(\"basin done\")\n",
    "    basin_sizes.append(basin_size)\n",
    "    basin_size = 0\n",
    "    \n",
    "basin_sizes = [curr for curr in basin_sizes if curr!=0 ]"
   ]
  },
  {
   "cell_type": "code",
   "execution_count": 176,
   "metadata": {},
   "outputs": [
    {
     "data": {
      "text/plain": [
       "{'0': 11, '1': 11, '2': 11, '3': 11, '4': 11, '5': 11, '6': 11}"
      ]
     },
     "execution_count": 176,
     "metadata": {},
     "output_type": "execute_result"
    }
   ],
   "source": [
    "known_9_locs_x"
   ]
  },
  {
   "cell_type": "code",
   "execution_count": 180,
   "metadata": {},
   "outputs": [
    {
     "data": {
      "text/plain": [
       "[3, 13, 6, 8, 5]"
      ]
     },
     "execution_count": 180,
     "metadata": {},
     "output_type": "execute_result"
    }
   ],
   "source": [
    "basin_sizes"
   ]
  },
  {
   "cell_type": "code",
   "execution_count": 144,
   "metadata": {},
   "outputs": [
    {
     "data": {
      "text/plain": [
       "[11, 11, 11, 11, 11, 11, 11]"
      ]
     },
     "execution_count": 144,
     "metadata": {},
     "output_type": "execute_result"
    }
   ],
   "source": [
    "list(known_9_locs_x.values())"
   ]
  },
  {
   "cell_type": "code",
   "execution_count": 102,
   "metadata": {},
   "outputs": [
    {
     "data": {
      "text/plain": [
       "0"
      ]
     },
     "execution_count": 102,
     "metadata": {},
     "output_type": "execute_result"
    }
   ],
   "source": [
    "len(np.where(nine_locs_row == curr_y)[0])"
   ]
  },
  {
   "cell_type": "code",
   "execution_count": 97,
   "metadata": {},
   "outputs": [
    {
     "data": {
      "text/plain": [
       "8"
      ]
     },
     "execution_count": 97,
     "metadata": {},
     "output_type": "execute_result"
    }
   ],
   "source": [
    "curr_y"
   ]
  },
  {
   "cell_type": "code",
   "execution_count": 98,
   "metadata": {},
   "outputs": [
    {
     "data": {
      "text/plain": [
       "array([ 0,  0,  0,  0,  0,  0,  0,  1,  1,  1,  1,  1,  1,  1,  2,  2,  2,\n",
       "        2,  2,  2,  2,  3,  3,  3,  3,  3,  3,  3,  4,  4,  4,  4,  4,  4,\n",
       "        4,  9,  9, 10, 10, 10, 10, 10, 10, 10, 10, 11, 11, 11, 11, 11, 11,\n",
       "       11, 11, 12, 12, 12, 12, 12, 12, 12, 12, 13, 13, 13, 13, 13, 13, 13,\n",
       "       13, 14, 14, 14, 14, 14, 14, 14, 14])"
      ]
     },
     "execution_count": 98,
     "metadata": {},
     "output_type": "execute_result"
    }
   ],
   "source": [
    "nine_locs_row"
   ]
  },
  {
   "cell_type": "code",
   "execution_count": null,
   "metadata": {},
   "outputs": [],
   "source": []
  }
 ],
 "metadata": {
  "kernelspec": {
   "display_name": "Python 3",
   "language": "python",
   "name": "python3"
  },
  "language_info": {
   "codemirror_mode": {
    "name": "ipython",
    "version": 3
   },
   "file_extension": ".py",
   "mimetype": "text/x-python",
   "name": "python",
   "nbconvert_exporter": "python",
   "pygments_lexer": "ipython3",
   "version": "3.7.3"
  }
 },
 "nbformat": 4,
 "nbformat_minor": 2
}
